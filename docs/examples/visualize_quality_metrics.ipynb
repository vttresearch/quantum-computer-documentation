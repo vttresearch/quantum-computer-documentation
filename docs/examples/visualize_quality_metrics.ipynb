{
 "cells": [
  {
   "cell_type": "markdown",
   "metadata": {},
   "source": [
    "# Visualizing Quality Metrics\n",
    "\n",
    "A quantum computers performance can change on a regular basis. This can be mitigated to some extent by calibration of the device which generates a _calibration set_, which is a set of parameters to current operate the quantum computer at. Because of drifts in the environment that the quantum computer operates at, regular calibration is required to account for these drifts and maintain optimal performance. \n",
    "\n",
    "To test the current performance of the calibration, we also benchmark the device, producing a _quality metrics set_. These benchmarks reflect the current status of the quantum computer and are essential pieces of information for using the system. For example, performance can often be increased by choosing a particular qubit or tunable coupler when running your quantum circuit. \n",
    "\n",
    "This notebook demonstrates how one can read the quality metrics set from the API and visualize it. "
   ]
  },
  {
   "cell_type": "markdown",
   "metadata": {},
   "source": [
    "## Importing Libraries"
   ]
  },
  {
   "cell_type": "code",
   "execution_count": null,
   "metadata": {},
   "outputs": [],
   "source": [
    "import json\n",
    "import os\n",
    "\n",
    "import matplotlib.pyplot as plt\n",
    "import requests\n",
    "from iqm.iqm_client import IQMClient\n",
    "from iqm.qiskit_iqm import IQMProvider"
   ]
  },
  {
   "cell_type": "markdown",
   "metadata": {},
   "source": [
    "## Getting the data from the API\n",
    "\n",
    "The calibration set ID and quality metrics set data are bundled together in JSON format available from the Cortex API. In this example, we make a HTTP request to the particular API endpoint, in this case, `calibration/metrics/latest`. We use the `IQMClient` to add the authentication token to the request, which is needed for accessing VTT quantum computers.\n",
    "\n",
    "First we define a helper function to get the data. The function `get_calibration_data` takes input `IQMClient`, `calibration_set_id` and optionally a `filename`. The `filename` option can be pass to save the data to a json file. "
   ]
  },
  {
   "cell_type": "code",
   "execution_count": null,
   "metadata": {},
   "outputs": [],
   "source": [
    "def get_calibration_data(client: IQMClient, calibration_set_id=None, filename: str = None):\n",
    "    \"\"\"\n",
    "    Return the calibration data and figures of merit using IQMClient.\n",
    "    Optionally you can input a calibration set id (UUID) to query historical results\n",
    "    Optionally save the response to a json file, if filename is provided\n",
    "    \"\"\"\n",
    "    headers = {\"User-Agent\": client._signature}\n",
    "    bearer_token = client._get_bearer_token()\n",
    "    headers[\"Authorization\"] = bearer_token\n",
    "\n",
    "    if calibration_set_id:\n",
    "        url = os.path.join(client._base_url, \"calibration/metrics/\", calibration_set_id)\n",
    "    else:\n",
    "        url = os.path.join(client._base_url, \"calibration/metrics/latest\")\n",
    "\n",
    "    response = requests.get(url, headers=headers)\n",
    "    response.raise_for_status()  # will raise an HTTPError if the response was not ok\n",
    "\n",
    "    data = response.json()\n",
    "    data_str = json.dumps(data, indent=4)\n",
    "\n",
    "    if filename:\n",
    "        with open(filename, \"w\") as f:\n",
    "            f.write(data_str)\n",
    "        print(f\"Data saved to {filename}\")\n",
    "\n",
    "    return data"
   ]
  },
  {
   "cell_type": "markdown",
   "metadata": {},
   "source": [
    "### Defining the IQM Client\n",
    "\n",
    "Setup the qiskit `IQMProvider` using the link to backend."
   ]
  },
  {
   "cell_type": "code",
   "execution_count": null,
   "metadata": {},
   "outputs": [],
   "source": [
    "provider = IQMProvider(\"https://qc.vtt.fi/cocos\")\n",
    "backend = provider.get_backend()\n",
    "\n",
    "# If you receive an error you may need to set the IQM_TOKENS_FILE environment variable\n",
    "# os.environ[\"IQM_TOKENS_FILE\"] = \"/path/to/file\""
   ]
  },
  {
   "cell_type": "markdown",
   "metadata": {},
   "source": [
    "We can then get the raw calibration data and see what it looks like"
   ]
  },
  {
   "cell_type": "code",
   "execution_count": null,
   "metadata": {},
   "outputs": [],
   "source": [
    "calibration_data = get_calibration_data(backend.client)\n",
    "\n",
    "print(calibration_data)"
   ]
  },
  {
   "cell_type": "markdown",
   "metadata": {},
   "source": [
    "Here are the alternative options"
   ]
  },
  {
   "cell_type": "code",
   "execution_count": null,
   "metadata": {},
   "outputs": [],
   "source": [
    "cal_set_id = \"1b7b8415-1ec6-41d5-8c11-9800c111612c\"\n",
    "calibration_data = get_calibration_data(backend.client, cal_set_id)\n",
    "calibration_data = get_calibration_data(backend.client, cal_set_id, filename=f\"{cal_set_id}.json\")"
   ]
  },
  {
   "cell_type": "markdown",
   "metadata": {},
   "source": [
    "We can parse this data to see individual metrics and values. For example:"
   ]
  },
  {
   "cell_type": "code",
   "execution_count": null,
   "metadata": {},
   "outputs": [],
   "source": [
    "calibration_data[\"metrics\"]"
   ]
  },
  {
   "cell_type": "markdown",
   "metadata": {},
   "source": [
    "The data is in the format\n",
    "\n",
    "```\n",
    "{\n",
    "  'component.metric':\n",
    "  {\n",
    "    'value': '1',\n",
    "    'unit': '',\n",
    "    'uncertainity': '',\n",
    "    'timestamp': '2024-04-08T05:05:47.58068'\n",
    "  }\n",
    "}\n",
    "```"
   ]
  },
  {
   "cell_type": "markdown",
   "metadata": {},
   "source": [
    "## Plotting the data\n",
    "\n",
    "To plot the data, we utilise a simple plotting function which can plot a specific metric which we are interested in. The function iterates over the gathered data and extracts the particular keys and values for the input metric. This requires knowing and using the same string as the metric you are interested in. "
   ]
  },
  {
   "cell_type": "code",
   "execution_count": null,
   "metadata": {},
   "outputs": [],
   "source": [
    "def plot_metrics(\n",
    "    metric: str,\n",
    "    title: str,\n",
    "    ylabel: str,\n",
    "    xlabel: str,\n",
    "    data: dict,\n",
    "    limits: list = [],\n",
    "):\n",
    "    # Initialize lists to store the values and labels\n",
    "    values = []\n",
    "    labels = []\n",
    "\n",
    "    # Iterate over the calibration data and collect values and labels based on the metric\n",
    "    for key, metric_data in data[\"metrics\"].items():\n",
    "        if key.endswith(metric):\n",
    "            values.append(float(metric_data[\"value\"]))\n",
    "            # Extract the qubit label from the key\n",
    "            labels.append(key.split(\".\")[0])\n",
    "\n",
    "    # Check if values were found for the given metric\n",
    "    if not values:\n",
    "        return f\"{metric} not in quality metrics set!\"\n",
    "\n",
    "    # Set the width and gap between the bars\n",
    "    bar_width = 0.4\n",
    "    # Calculate the positions of the bars\n",
    "    positions = range(len(values))\n",
    "    # Plot the values with labels\n",
    "    plt.bar(positions, values, width=bar_width, tick_label=labels)\n",
    "\n",
    "    if len(limits) == 2:\n",
    "        plt.ylim(limits)\n",
    "\n",
    "    plt.grid(axis=\"y\")\n",
    "    plt.xlabel(xlabel)\n",
    "    plt.ylabel(ylabel)\n",
    "    plt.title(title)\n",
    "    plt.xticks(rotation=90)\n",
    "\n",
    "    plt.tight_layout()\n",
    "    plt.show()"
   ]
  },
  {
   "cell_type": "markdown",
   "metadata": {},
   "source": [
    "## Readout Fidelities\n",
    "\n",
    "The readout fidelity describes how well the quantum computer can measure your quantum state. From the readout fidelity one can see how much error from their quantum circuit they can attribute to incorrectly reading out or measuring the quantum state. \n",
    "\n",
    "Readout fidelity includes both state preparation and measurement errors here. \n",
    "\n",
    "Typical values for readout fidelities are between $94\\%$ and $99\\%$ for VTT quantum computers. "
   ]
  },
  {
   "cell_type": "code",
   "execution_count": null,
   "metadata": {},
   "outputs": [],
   "source": [
    "plot_metrics(\n",
    "    metric=\"single_shot_readout_fidelity\",\n",
    "    title=\"Single Shot Readout Fidelities\",\n",
    "    xlabel=\"Qubits\",\n",
    "    ylabel=\"Success rate\",\n",
    "    data=calibration_data,\n",
    "    limits=[0.85, 1],\n",
    ")"
   ]
  },
  {
   "cell_type": "markdown",
   "metadata": {},
   "source": [
    "## $T_1$/$T_2$ Times\n",
    "\n",
    "The $T_1$ and $T_2$ times are the coherence times for the system. \n",
    "\n",
    "The $T_1$ time is called the longitudinal relaxation rate and describes how quickly the excited state of the qubit returns to its ground state. \n",
    "\n",
    "The $T_2$ time is called the transverse relaxation rate and describes loss of coherence of a superposition state.\n",
    "\n",
    "The $T_2$-echo time describes the loss of coherence of the superposition state of the qubit. It is more precise than the $T_2$ Time as it is less susceptible to low-frequency noise.\n",
    "\n",
    "Based on these values you can approximate how many gates you can run on the quantum computer before decoherence occurs, which is an important quantity when writing quantum circuits. \n",
    "\n",
    "Typical values for the coherence times are between $10 \\mu s$ and $60 \\mu s$ for VTT's quantum computers. \n"
   ]
  },
  {
   "cell_type": "code",
   "execution_count": null,
   "metadata": {},
   "outputs": [],
   "source": [
    "plot_metrics(metric=\"t1_time\", title=\"T1 times\", xlabel=\"Qubits\", ylabel=\"Time\", data=calibration_data)"
   ]
  },
  {
   "cell_type": "code",
   "execution_count": null,
   "metadata": {},
   "outputs": [],
   "source": [
    "plot_metrics(metric=\"t2_time\", title=\"T2 times\", xlabel=\"Qubits\", ylabel=\"Time\", data=calibration_data)"
   ]
  },
  {
   "cell_type": "code",
   "execution_count": null,
   "metadata": {},
   "outputs": [],
   "source": [
    "plot_metrics(metric=\"t2_echo_time\", title=\"T2 Echo times\", xlabel=\"Qubits\", ylabel=\"Time\", data=calibration_data)"
   ]
  },
  {
   "cell_type": "markdown",
   "metadata": {},
   "source": [
    "## Single qubit gate fidelities\n",
    "\n",
    "Single qubit gate fidelities are measured through executing the single qubit [randomized benchmarking](https://journals.aps.org/prl/abstract/10.1103/PhysRevLett.106.180504) (RB) experiment. \n",
    "\n",
    "In this experiment a random sequence of single-qubit clifford gates are sampled and the survival probabilities are measured. An exponential curve is then fit and an estimate for the average gate fidelity across the set of clifford gates is calculated. \n",
    "\n",
    "It is important to note that single qubit gate fidelities are independent of state preparation and measurement (SPAM) errors.\n",
    "\n",
    "Typical values range between $99.99\\%$ and $99.999\\%$."
   ]
  },
  {
   "cell_type": "code",
   "execution_count": null,
   "metadata": {},
   "outputs": [],
   "source": [
    "plot_metrics(\n",
    "    metric=\"fidelity_1qb_gates_averaged\",\n",
    "    title=\"Single-qubit Gate Fidelities\",\n",
    "    xlabel=\"Qubits\",\n",
    "    ylabel=\"Fidelities\",\n",
    "    data=calibration_data,\n",
    "    limits=[0.95, 1],\n",
    ")"
   ]
  },
  {
   "cell_type": "markdown",
   "metadata": {},
   "source": [
    "## Two qubit gate fidelities\n",
    "\n",
    "The calibration data reports two metrics for the two-qubit gate fidelity. The CZ gate fidelity and the two-qubit average gate fidelity. \n",
    "\n",
    "The CZ fidelity is estimated using interleaved randomized benchmarking. In this randomized benchmarking sequence is interleaved with the CZ gate, obtaining the average gate fidelity for that specific gate. This is important to know because VTT's quantum computers have their two-qubit native gate as the CZ gate. The fidelity is usually higher than the average 2QB gate fidelity as a random 2QB Clifford transpiles on average to 8.25 1QB gates and 1.5 2QB CZ gates.\n",
    "\n",
    "The 2QB average gate fidelity is estimated with randomized benchmarking protocol in a similar fashion to the single-qubit RB protocol. \n",
    "\n",
    "Typical values are between $97\\%$ and $99\\%$ for CZ gate fidelities and $93\\%$ and $96\\%$ for two-qubit RB. "
   ]
  },
  {
   "cell_type": "code",
   "execution_count": null,
   "metadata": {},
   "outputs": [],
   "source": [
    "plot_metrics(\n",
    "    metric=\"cz_gate_fidelity\",\n",
    "    title=\"CZ Gate Fidelities\",\n",
    "    xlabel=\"Qubit pairs\",\n",
    "    ylabel=\"Fidelities\",\n",
    "    data=calibration_data,\n",
    "    limits=[0.8, 1],\n",
    ")"
   ]
  },
  {
   "cell_type": "code",
   "execution_count": null,
   "metadata": {},
   "outputs": [],
   "source": [
    "plot_metrics(\n",
    "    metric=\"fidelity_2qb_cliffords_averaged\",\n",
    "    title=\"Two-qubit Gates Cliffords Averaged\",\n",
    "    xlabel=\"Qubits\",\n",
    "    ylabel=\"Fidelities\",\n",
    "    data=calibration_data,\n",
    "    limits=[0.7, 1],\n",
    ")"
   ]
  },
  {
   "cell_type": "markdown",
   "metadata": {},
   "source": [
    "## Software versions\n",
    "\n",
    "```bash\n",
    "cirq-iqm==12.2\n",
    "iqm-client==15.3\n",
    "iqm-cortex-cli==5.8\n",
    "qiskit-iqm==11.10\n",
    "```"
   ]
  }
 ],
 "metadata": {
  "kernelspec": {
   "display_name": "helmi-cocos",
   "language": "python",
   "name": "python3"
  },
  "language_info": {
   "codemirror_mode": {
    "name": "ipython",
    "version": 3
   },
   "file_extension": ".py",
   "mimetype": "text/x-python",
   "name": "python",
   "nbconvert_exporter": "python",
   "pygments_lexer": "ipython3",
   "version": "3.10.10"
  }
 },
 "nbformat": 4,
 "nbformat_minor": 2
}
