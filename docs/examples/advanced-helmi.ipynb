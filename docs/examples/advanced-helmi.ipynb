{
 "cells": [
  {
   "cell_type": "markdown",
   "metadata": {},
   "source": [
    "# Advanced Helmi Usage\n",
    "\n",
    "This notebooks covers some \"advanced\" usage of Helmi. In particular we look at:\n",
    "\n",
    "1. Improving results by utilising calibration data\n",
    "2. Improving results by taking into account the topology\n",
    "3. Improving results via readout error mitigation"
   ]
  },
  {
   "cell_type": "markdown",
   "metadata": {},
   "source": [
    "## Setup"
   ]
  },
  {
   "cell_type": "code",
   "execution_count": null,
   "metadata": {},
   "outputs": [],
   "source": [
    "import json\n",
    "import os\n",
    "\n",
    "import matplotlib.pyplot as plt\n",
    "import requests\n",
    "from iqm.iqm_client import IQMClient\n",
    "from iqm.qiskit_iqm import IQMFakeAdonis, IQMProvider\n",
    "from iqm.qiskit_iqm.iqm_transpilation import optimize_single_qubit_gates\n",
    "from qiskit import QuantumCircuit, QuantumRegister, execute, transpile\n",
    "from qiskit.tools.monitor import job_monitor\n",
    "from qiskit.visualization import plot_histogram\n",
    "from qiskit_aer import Aer\n",
    "from qiskit_experiments.library import LocalReadoutError"
   ]
  },
  {
   "cell_type": "code",
   "execution_count": null,
   "metadata": {},
   "outputs": [],
   "source": [
    "provider = IQMProvider(\"https://qc.vtt.fi/helmi/cocos\")\n",
    "backend_helmi = provider.get_backend()\n",
    "\n",
    "backend_sim = Aer.get_backend(\"aer_simulator\")\n",
    "\n",
    "fake_backend = IQMFakeAdonis()"
   ]
  },
  {
   "cell_type": "markdown",
   "metadata": {},
   "source": [
    "### Creating Bell Pair circuit"
   ]
  },
  {
   "cell_type": "code",
   "execution_count": null,
   "metadata": {},
   "outputs": [],
   "source": [
    "circuit = QuantumCircuit(2, name=\"Bell pair circuit\")\n",
    "circuit.h(0)\n",
    "circuit.cx(0, 1)\n",
    "circuit.measure_all()\n",
    "circuit.draw(output=\"mpl\")"
   ]
  },
  {
   "cell_type": "code",
   "execution_count": null,
   "metadata": {},
   "outputs": [],
   "source": [
    "job = execute(circuit, backend_helmi, shots=100)\n",
    "print(f\"Job ID: {job.job_id()}.\")\n",
    "print(\"Tracking execution of job:\")\n",
    "job_monitor(job)"
   ]
  },
  {
   "cell_type": "markdown",
   "metadata": {},
   "source": [
    "### Viewing the results"
   ]
  },
  {
   "cell_type": "code",
   "execution_count": null,
   "metadata": {},
   "outputs": [],
   "source": [
    "result = job.result()\n",
    "print(result.job_id)  # The job id can be queried from the result\n",
    "print(result.get_counts())\n",
    "# print(result.get_memory())\n",
    "\n",
    "plot_histogram(result.get_counts())"
   ]
  },
  {
   "cell_type": "markdown",
   "metadata": {},
   "source": [
    "### Additional Metadata"
   ]
  },
  {
   "cell_type": "code",
   "execution_count": null,
   "metadata": {},
   "outputs": [],
   "source": [
    "exp_result = result._get_experiment(circuit)\n",
    "print(\"Job ID: \", job.job_id())  # Retrieving the submitted job id\n",
    "print(result.request.circuits)  # Retrieving the circuit request sent\n",
    "print(\n",
    "    \"Calibration Set ID: \", exp_result.calibration_set_id\n",
    ")  # Retrieving the current calibration set id.\n",
    "print(result.request.qubit_mapping)  # Retrieving the qubit mapping\n",
    "print(result.request.shots)  # Retrieving the number of requested shots.\n",
    "print(exp_result.header)"
   ]
  },
  {
   "cell_type": "markdown",
   "metadata": {},
   "source": [
    "## Improving results by utilising calibration data \n",
    "\n",
    "Using the `execute` function and passing the quantum circuit is a naive implementation. We don't know which qubits we ran on and some qubits may be performing differently to others. To extract the best results from our algorithm we should look at the calibration data and pick the best qubits. \n",
    "\n",
    "First we use some utility functions to get the calibration data and plot a particular metric. "
   ]
  },
  {
   "cell_type": "code",
   "execution_count": null,
   "metadata": {},
   "outputs": [],
   "source": [
    "def get_calibration_data(\n",
    "    client: IQMClient, calibration_set_id=None, filename: str = None\n",
    "):\n",
    "    \"\"\"\n",
    "    Return the calibration data and figures of merit using IQMClient.\n",
    "    Optionally you can input a calibration set id (UUID) to query historical results\n",
    "    Optionally save the response to a json file, if filename is provided\n",
    "    \"\"\"\n",
    "    headers = {\"User-Agent\": client._signature}\n",
    "    bearer_token = client._get_bearer_token()\n",
    "    headers[\"Authorization\"] = bearer_token\n",
    "\n",
    "    if calibration_set_id:\n",
    "        url = os.path.join(client._base_url, \"calibration/metrics/\", calibration_set_id)\n",
    "    else:\n",
    "        url = os.path.join(client._base_url, \"calibration/metrics/latest\")\n",
    "\n",
    "    response = requests.get(url, headers=headers)\n",
    "    response.raise_for_status()  # will raise an HTTPError if the response was not ok\n",
    "\n",
    "    data = response.json()\n",
    "    data_str = json.dumps(data, indent=4)\n",
    "\n",
    "    if filename:\n",
    "        with open(filename, \"w\") as f:\n",
    "            f.write(data_str)\n",
    "        print(f\"Data saved to {filename}\")\n",
    "\n",
    "    return data\n",
    "\n",
    "\n",
    "def plot_metrics(\n",
    "    metric: str, title: str, ylabel: str, xlabel: str, data: dict, limits: list = []\n",
    "):\n",
    "    # Initialize lists to store the values and labels\n",
    "    values = []\n",
    "    labels = []\n",
    "\n",
    "    # Iterate over the calibration data and collect values and labels based on the metric\n",
    "    for key, metric_data in data[\"metrics\"].items():\n",
    "        if key.endswith(metric):\n",
    "            values.append(float(metric_data[\"value\"]))\n",
    "            # Extract the qubit label from the key\n",
    "            labels.append(key.split(\".\")[0])\n",
    "\n",
    "    # Check if values were found for the given metric\n",
    "    if not values:\n",
    "        return f\"{metric} not in quality metrics set!\"\n",
    "\n",
    "    # Set the width and gap between the bars\n",
    "    bar_width = 0.4\n",
    "    # Calculate the positions of the bars\n",
    "    positions = range(len(values))\n",
    "    # Plot the values with labels\n",
    "    plt.bar(positions, values, width=bar_width, tick_label=labels)\n",
    "\n",
    "    if len(limits) == 2:\n",
    "        plt.ylim(limits)\n",
    "\n",
    "    plt.grid(axis=\"y\")\n",
    "    plt.xlabel(xlabel)\n",
    "    plt.ylabel(ylabel)\n",
    "    plt.title(title)\n",
    "    plt.xticks(rotation=90)\n",
    "\n",
    "    plt.tight_layout()\n",
    "    plt.show()"
   ]
  },
  {
   "cell_type": "code",
   "execution_count": null,
   "metadata": {},
   "outputs": [],
   "source": [
    "calibration_data = get_calibration_data(\n",
    "    backend_helmi.client, calibration_set_id=\"27fecf23-c289-4fde-93e5-912fbd5f5b66\"\n",
    ")\n",
    "\n",
    "plot_metrics(\n",
    "    metric=\"fidelity_2qb_cliffords_averaged\",\n",
    "    title=\"Two-qubit Gates Cliffords Averaged\",\n",
    "    xlabel=\"Qubits\",\n",
    "    ylabel=\"Fidelities\",\n",
    "    data=calibration_data,\n",
    "    limits=[0.7, 1],\n",
    ")"
   ]
  },
  {
   "cell_type": "markdown",
   "metadata": {},
   "source": [
    "Now let's use `transpilation` to map our quantum circuit to a chosen set of qubits. "
   ]
  },
  {
   "cell_type": "code",
   "execution_count": null,
   "metadata": {},
   "outputs": [],
   "source": [
    "qreg = QuantumRegister(2, \"QB\")\n",
    "circuit = QuantumCircuit(qreg, name=\"Bell pair circuit\")\n",
    "circuit.h(qreg[0])\n",
    "circuit.cx(qreg[0], qreg[1])\n",
    "circuit.measure_all()\n",
    "\n",
    "\n",
    "# Qubit numbers start at 0 index whereas the qubit names start at 1 index.\n",
    "qubit_mapping = {\n",
    "    qreg[0]: 4,  # Map the first qubit to QB5\n",
    "    qreg[1]: 2,  # Map the second qubit to QB3\n",
    "}\n",
    "\n",
    "\n",
    "transpiled_circuit = transpile(\n",
    "    circuit,\n",
    "    backend=backend_helmi,\n",
    "    layout_method=\"sabre\",\n",
    "    optimization_level=3,\n",
    "    initial_layout=qubit_mapping,\n",
    ")\n",
    "transpiled_circuit.draw(\"mpl\")"
   ]
  },
  {
   "cell_type": "code",
   "execution_count": null,
   "metadata": {},
   "outputs": [],
   "source": [
    "job = execute(transpiled_circuit, backend_helmi, shots=100)\n",
    "print(f\"Job ID: {job.job_id()}.\")\n",
    "print(\"Tracking execution of job:\")\n",
    "job_monitor(job)"
   ]
  },
  {
   "cell_type": "code",
   "execution_count": null,
   "metadata": {},
   "outputs": [],
   "source": [
    "result = job.result()\n",
    "print(result.request.qubit_mapping)  # Retrieving the qubit mapping\n",
    "plot_histogram(result.get_counts())"
   ]
  },
  {
   "cell_type": "markdown",
   "metadata": {},
   "source": [
    "## Improving results by taking into account topology\n",
    "\n",
    "Here a 5 qubit **Greenberger-Horne-Zeilinger** (GHZ) State  quantum circuit is created. This creates an *n*-qubit entangled state. Running a GHZ experiment is useful for assessing the multi-qubit interactions in a quantum computer. \n",
    "\n",
    "In this advanced example, a textbook implementation of a GHZ circuit is written and run on Helmi. Then, the circuit is transpiled taking into account the topology of Helmi. The results are compared. "
   ]
  },
  {
   "cell_type": "code",
   "execution_count": null,
   "metadata": {},
   "outputs": [],
   "source": [
    "# create quantum circuit\n",
    "\n",
    "shots = 1000\n",
    "\n",
    "qreg = QuantumRegister(5, \"QB\")\n",
    "qc = QuantumCircuit(qreg, name=\"GHZ circuit\")\n",
    "\n",
    "qc.h(0)\n",
    "qc.cx(0, 1)  # apply CNOT, control=0, target=1\n",
    "qc.cx(1, 2)\n",
    "qc.cx(2, 3)\n",
    "qc.cx(3, 4)\n",
    "qc.measure_all()\n",
    "\n",
    "qc.draw(\"mpl\")"
   ]
  },
  {
   "cell_type": "markdown",
   "metadata": {},
   "source": [
    "Running this on the ideal simulator gives the following histogram"
   ]
  },
  {
   "cell_type": "code",
   "execution_count": null,
   "metadata": {},
   "outputs": [],
   "source": [
    "job = execute(qc, backend_sim, shots=1000)\n",
    "\n",
    "job_monitor(job)\n",
    "counts = job.result().get_counts()\n",
    "\n",
    "plot_histogram(counts)"
   ]
  },
  {
   "cell_type": "markdown",
   "metadata": {},
   "source": [
    "In this approach, the circuit is created in a 'textbook' fashion. Due to the topology of Helmi, after transpiling the circuit it becomes much longer because SWAP gates are needed. "
   ]
  },
  {
   "cell_type": "code",
   "execution_count": null,
   "metadata": {},
   "outputs": [],
   "source": [
    "transpiled_circuit = transpile(\n",
    "    qc, backend=backend_helmi, layout_method=\"sabre\", optimization_level=3\n",
    ")\n",
    "transpiled_circuit.draw(\"mpl\")"
   ]
  },
  {
   "cell_type": "markdown",
   "metadata": {},
   "source": [
    "This can be shown by only displaying the routed circuit, without decomposition into native gates. "
   ]
  },
  {
   "cell_type": "code",
   "execution_count": null,
   "metadata": {},
   "outputs": [],
   "source": [
    "transpiled_circuit_simple = transpile(\n",
    "    qc,\n",
    "    coupling_map=backend_helmi.coupling_map,\n",
    "    layout_method=\"sabre\",\n",
    "    optimization_level=3,\n",
    ")\n",
    "transpiled_circuit_simple.draw(\"mpl\")"
   ]
  },
  {
   "cell_type": "markdown",
   "metadata": {},
   "source": [
    "Let's run this on Helmi!"
   ]
  },
  {
   "cell_type": "code",
   "execution_count": null,
   "metadata": {},
   "outputs": [],
   "source": [
    "job = execute(transpiled_circuit, backend_helmi, shots=1000)\n",
    "\n",
    "job_monitor(job)\n",
    "counts = job.result().get_counts()\n",
    "\n",
    "plot_histogram(counts)"
   ]
  },
  {
   "cell_type": "markdown",
   "metadata": {},
   "source": [
    "In this case we have an additional swap gates due to the central qubit (QB3) being the only available qubit to make 2 qubit gates. \n",
    "\n",
    "We can reduce the number of swap gates needed and improve our GHZ 5 result by placing the Hadamard gate on the central qubit and CNOTs on all the neighbours. "
   ]
  },
  {
   "cell_type": "code",
   "execution_count": null,
   "metadata": {},
   "outputs": [],
   "source": [
    "# create quantum circuit\n",
    "qreg = QuantumRegister(5, \"QB\")\n",
    "qc = QuantumCircuit(qreg, name=\"GHZ circuit\")\n",
    "\n",
    "qc.h(2)\n",
    "qc.cx(2, 0)\n",
    "qc.cx(2, 1)\n",
    "qc.cx(2, 3)\n",
    "qc.cx(2, 4)\n",
    "\n",
    "qc.measure_all()\n",
    "\n",
    "qc.draw(\"mpl\")"
   ]
  },
  {
   "cell_type": "code",
   "execution_count": null,
   "metadata": {},
   "outputs": [],
   "source": [
    "transpiled_circuit = transpile(\n",
    "    qc, backend=backend_helmi, layout_method=\"sabre\", optimization_level=3\n",
    ")\n",
    "transpiled_circuit.draw(\"mpl\")"
   ]
  },
  {
   "cell_type": "markdown",
   "metadata": {},
   "source": [
    "Now we run the code on Helmi and look at the histogram. "
   ]
  },
  {
   "cell_type": "code",
   "execution_count": null,
   "metadata": {},
   "outputs": [],
   "source": [
    "job = execute(transpiled_circuit, backend_helmi, shots=1000)\n",
    "\n",
    "job_monitor(job)\n",
    "\n",
    "counts = job.result().get_counts()\n",
    "plot_histogram(counts)"
   ]
  },
  {
   "cell_type": "markdown",
   "metadata": {},
   "source": [
    "We can decrease the depth of the circuit even further by merging adjacent single qubit gates"
   ]
  },
  {
   "cell_type": "code",
   "execution_count": null,
   "metadata": {},
   "outputs": [],
   "source": [
    "circuit_optimized = optimize_single_qubit_gates(transpiled_circuit)\n",
    "circuit_optimized.draw(\"mpl\")"
   ]
  },
  {
   "cell_type": "code",
   "execution_count": null,
   "metadata": {},
   "outputs": [],
   "source": [
    "job = execute(circuit_optimized, backend_helmi, shots=1000)\n",
    "\n",
    "job_monitor(job)\n",
    "\n",
    "counts = job.result().get_counts()\n",
    "plot_histogram(counts)"
   ]
  },
  {
   "cell_type": "markdown",
   "metadata": {},
   "source": [
    "## Readout Mitigation Helmi\n",
    "\n",
    "Error mitigation is a class of techniques aimed at reducing the error from submitting to the current generation of noisy devices. This exercise demonstrates how to apply simple readout error mitigation to improve the results from our GHZ circuit. \n",
    "\n",
    "This follows Qiskit's tutorial: [Readout Mitigation](https://qiskit.org/ecosystem/experiments/manuals/measurement/readout_mitigation.html), however alternatives such as [Mitiq](https://mitiq.readthedocs.io/en/stable/index.html) can be used. Mitiq provides an open-source library to learn about and implement error mitigation.\n"
   ]
  },
  {
   "cell_type": "markdown",
   "metadata": {},
   "source": [
    "For this brief example, *readout* error mitigation is applied using the [`LocalReadoutError`](https://qiskit.org/ecosystem/experiments/stubs/qiskit_experiments.library.characterization.LocalReadoutError.html#qiskit_experiments.library.characterization.LocalReadoutError) mitigator from `qiskit.experiments`. Readout error mitigation refers to errors related to \"reading out\" of the quantum state into classical information which occurs during measurement. \n",
    "\n",
    "With the [`LocalReadoutError`](https://qiskit.org/ecosystem/experiments/stubs/qiskit_experiments.library.characterization.LocalReadoutError.html#qiskit_experiments.library.characterization.LocalReadoutError), a $2^n \\times 2^n$ assignment matrix $A$ is created, containing the probabilities to observe $y$, given $x$. That is to say that the individual elements of the matrix will contain the probabilities that a qubit prepared in state $|0 \\rangle$ or $|1 \\rangle$ and was measured in either state $|0 \\rangle$ or $|1 \\rangle$.\n",
    "\n",
    "Here we demonstrate the[ `LocalReadoutMitigator`](https://qiskit.org/documentation/stubs/qiskit.result.LocalReadoutMitigator.html#qiskit.result.LocalReadoutMitigator) example, which assumes the readout errors of the qubits are uncorrelated. In this case $n 2 \\times 2$  *mitigation matrices* are generated, 1 for each qubit. \n",
    "\n",
    "First we generate 2 circuits for all of Helmi's qubits. The first circuit has no gates applied with the ideal outcome of all zeros: `00000`, the second circuit applied an $X$ gate to our circuit with the ideal outcome of all ones: `11111`. After running the experiment we get the [Mitigator](https://qiskit.org/documentation/stubs/qiskit.result.LocalReadoutMitigator.html#qiskit.result.LocalReadoutMitigator) which returns the mitigated qasi-probabilities. "
   ]
  },
  {
   "cell_type": "markdown",
   "metadata": {},
   "source": [
    "To exaggerate the effect a 5 qubit GHZ circuit is created. "
   ]
  },
  {
   "cell_type": "code",
   "execution_count": null,
   "metadata": {},
   "outputs": [],
   "source": [
    "# create quantum circuit\n",
    "\n",
    "shots = 1000\n",
    "\n",
    "qreg = QuantumRegister(3, \"QB\")\n",
    "qc = QuantumCircuit(qreg, name=\"GHZ circuit\")\n",
    "\n",
    "qc.h(2)\n",
    "qc.cx(2, 0)\n",
    "qc.cx(2, 1)\n",
    "qc.measure_all()\n",
    "\n",
    "qc.draw(\"mpl\")"
   ]
  },
  {
   "cell_type": "markdown",
   "metadata": {},
   "source": [
    "With an ideal result run with the simulator "
   ]
  },
  {
   "cell_type": "code",
   "execution_count": null,
   "metadata": {},
   "outputs": [],
   "source": [
    "from qiskit import Aer\n",
    "\n",
    "simulator = Aer.get_backend(\"aer_simulator\")\n",
    "result = simulator.run(qc, shots=shots).result()\n",
    "counts = result.get_counts()  # extract statistics from results\n",
    "print(counts)\n",
    "\n",
    "plot_histogram(counts)"
   ]
  },
  {
   "cell_type": "markdown",
   "metadata": {},
   "source": [
    "And then Helmi"
   ]
  },
  {
   "cell_type": "code",
   "execution_count": null,
   "metadata": {},
   "outputs": [],
   "source": [
    "transpiled_circuit_simple = transpile(\n",
    "    qc,\n",
    "    coupling_map=[[3, 2], [2, 3], [4, 2], [2, 4]],\n",
    "    layout_method=\"sabre\",\n",
    "    optimization_level=3,\n",
    ")\n",
    "transpiled_circuit_simple.draw(\"mpl\")"
   ]
  },
  {
   "cell_type": "code",
   "execution_count": null,
   "metadata": {},
   "outputs": [],
   "source": [
    "transpiled_circuit = transpile(\n",
    "    qc,\n",
    "    backend=backend_helmi,\n",
    "    coupling_map=[[3, 2], [2, 3], [4, 2], [2, 4]],\n",
    "    optimization_level=3,\n",
    "    initial_layout=[2, 3, 4],\n",
    ")\n",
    "transpiled_circuit.draw(\"mpl\")"
   ]
  },
  {
   "cell_type": "code",
   "execution_count": null,
   "metadata": {},
   "outputs": [],
   "source": [
    "job = execute(transpiled_circuit, backend_helmi, shots=1000)\n",
    "\n",
    "job_monitor(job)\n",
    "\n",
    "counts = job.result().get_counts()\n",
    "plot_histogram(counts)"
   ]
  },
  {
   "cell_type": "code",
   "execution_count": null,
   "metadata": {},
   "outputs": [],
   "source": [
    "qubits = [2, 3, 4]\n",
    "\n",
    "# The qiskit experiment class generates the \"Calibration Circuits\"\n",
    "# based off the experiment and the qubits input.\n",
    "exp = LocalReadoutError(qubits)\n",
    "for c in exp.circuits():\n",
    "    print(c)"
   ]
  },
  {
   "cell_type": "code",
   "execution_count": null,
   "metadata": {},
   "outputs": [],
   "source": [
    "exp.analysis.set_options(plot=True)\n",
    "\n",
    "result = exp.run(backend_helmi)\n",
    "mitigator = result.analysis_results(0).value"
   ]
  },
  {
   "cell_type": "code",
   "execution_count": null,
   "metadata": {},
   "outputs": [],
   "source": [
    "result.figure(0)"
   ]
  },
  {
   "cell_type": "markdown",
   "metadata": {},
   "source": [
    "The experiment can simple be run. Qiskit's experiments library takes take of the circuit transpilation and execution in addition to analysis. In this case the above circuits are run and then analysed. "
   ]
  },
  {
   "cell_type": "code",
   "execution_count": null,
   "metadata": {},
   "outputs": [],
   "source": [
    "exp.analysis.set_options(plot=True)\n",
    "\n",
    "result = exp.run(fake_backend)\n",
    "mitigator = result.analysis_results(0).value"
   ]
  },
  {
   "cell_type": "code",
   "execution_count": null,
   "metadata": {},
   "outputs": [],
   "source": [
    "result.figure(0)"
   ]
  },
  {
   "cell_type": "markdown",
   "metadata": {},
   "source": [
    "Here $A$ is the assignment matrix, with $I$ being the identity matrix. The individual components of the assignment matrix represent the probabilities to, for example prepare a $|0 \\rangle$ state and get a $|1 \\rangle$ state or $|1\\rangle$ state and get a $|0\\rangle$ state. This is compared against the identity matrix because in the ideal case we would expect $P(X|X) = 1$ and $P(X|Y) = 0$ ($P(X|X)$ means the probability of $X$ given $X$) The plot shows the absolute value of these two matrices. \n",
    "\n",
    "The automatic scale given by Qiskit experiments can be slightly misleading, as demonstrated when you run this with the simulator. \n",
    "\n",
    "The assignment matrix can be printed. "
   ]
  },
  {
   "cell_type": "code",
   "execution_count": null,
   "metadata": {},
   "outputs": [],
   "source": [
    "mitigator.assignment_matrix()\n",
    "print(len(mitigator.assignment_matrix()))"
   ]
  },
  {
   "cell_type": "markdown",
   "metadata": {},
   "source": [
    "If, for example we used the simulator here the assignment matrix would look like the following:\n",
    "\n",
    "```python\n",
    "array([[1., 0., 0., ..., 0., 0., 0.],\n",
    "       [0., 1., 0., ..., 0., 0., 0.],\n",
    "       [0., 0., 1., ..., 0., 0., 0.],\n",
    "       ...,\n",
    "       [0., 0., 0., ..., 1., 0., 0.],\n",
    "       [0., 0., 0., ..., 0., 1., 0.],\n",
    "       [0., 0., 0., ..., 0., 0., 1.]])\n",
    "```\n",
    "\n",
    "With the simulator the $n$ mitigation matrices will look like:\n",
    "\n",
    "```python\n",
    "[1. 0.]\n",
    " [0. 1.]\n",
    "```"
   ]
  },
  {
   "cell_type": "markdown",
   "metadata": {},
   "source": [
    "When using the Qiskit experiment library the analysis is hidden from the user.\n",
    "\n",
    "You can look at the code from Qiskit experiments [`LocalReadoutErrorAnalysis`](https://qiskit.org/ecosystem/experiments/stubs/qiskit_experiments.library.characterization.LocalReadoutErrorAnalysis.html#qiskit_experiments.library.characterization.LocalReadoutErrorAnalysis) if you wish to see what it's doing under the hood. "
   ]
  },
  {
   "cell_type": "code",
   "execution_count": null,
   "metadata": {},
   "outputs": [],
   "source": [
    "for m in mitigator._mitigation_mats:\n",
    "    print(m)\n",
    "    print()"
   ]
  },
  {
   "cell_type": "code",
   "execution_count": null,
   "metadata": {},
   "outputs": [],
   "source": [
    "print(len(mitigator._mitigation_mats))"
   ]
  },
  {
   "cell_type": "markdown",
   "metadata": {},
   "source": [
    "Then a circuit can be run on Helmi and our error mitigation applied! In this case we apply the readout error mitigation to the GHZ circuit.\n",
    "\n",
    "First, the circuit is run without error mitigation."
   ]
  },
  {
   "cell_type": "code",
   "execution_count": null,
   "metadata": {},
   "outputs": [],
   "source": [
    "shots = 10000\n",
    "counts = backend_helmi.run(transpiled_circuit, shots=shots).result().get_counts()\n",
    "unmitigated_probs = {label: count / shots for label, count in counts.items()}"
   ]
  },
  {
   "cell_type": "markdown",
   "metadata": {},
   "source": [
    "And then with error mitigation"
   ]
  },
  {
   "cell_type": "code",
   "execution_count": null,
   "metadata": {},
   "outputs": [],
   "source": [
    "mitigated_quasi_probs = mitigator.quasi_probabilities(counts)\n",
    "mitigated_probs = (\n",
    "    mitigated_quasi_probs.nearest_probability_distribution().binary_probabilities()\n",
    ")"
   ]
  },
  {
   "cell_type": "code",
   "execution_count": null,
   "metadata": {},
   "outputs": [],
   "source": [
    "legend = [\"Mitigated Probabilities\", \"Unmitigated Probabilities\"]\n",
    "plot_histogram(\n",
    "    [mitigated_probs, unmitigated_probs],\n",
    "    legend=legend,\n",
    "    sort=\"value_desc\",\n",
    "    bar_labels=False,\n",
    ")"
   ]
  },
  {
   "cell_type": "code",
   "execution_count": null,
   "metadata": {},
   "outputs": [],
   "source": []
  }
 ],
 "metadata": {
  "language_info": {
   "name": "python"
  }
 },
 "nbformat": 4,
 "nbformat_minor": 2
}
